{
 "cells": [
  {
   "cell_type": "code",
   "execution_count": 3,
   "metadata": {},
   "outputs": [
    {
     "name": "stdout",
     "output_type": "stream",
     "text": [
      "this is outside the function\n"
     ]
    }
   ],
   "source": [
    "# a collection of instructions\n",
    "# a collection of code\n",
    "\n",
    "def function1():\n",
    "    print(\"something1\")\n",
    "    print(\"something2\")\n",
    "print(\"this is outside the function\")"
   ]
  },
  {
   "cell_type": "code",
   "execution_count": 4,
   "metadata": {},
   "outputs": [
    {
     "name": "stdout",
     "output_type": "stream",
     "text": [
      "something1\n",
      "something2\n"
     ]
    }
   ],
   "source": [
    "#things inside the function will only get printed if we call the function\n",
    "function1()"
   ]
  },
  {
   "cell_type": "code",
   "execution_count": 5,
   "metadata": {},
   "outputs": [],
   "source": [
    "#function can also be a mapping\n",
    "def function2(x):\n",
    "    return 2*x"
   ]
  },
  {
   "cell_type": "code",
   "execution_count": 7,
   "metadata": {},
   "outputs": [
    {
     "data": {
      "text/plain": [
       "6"
      ]
     },
     "execution_count": 7,
     "metadata": {},
     "output_type": "execute_result"
    }
   ],
   "source": [
    "a = function2(3)\n",
    "a"
   ]
  },
  {
   "cell_type": "code",
   "execution_count": 8,
   "metadata": {},
   "outputs": [
    {
     "data": {
      "text/plain": [
       "8"
      ]
     },
     "execution_count": 8,
     "metadata": {},
     "output_type": "execute_result"
    }
   ],
   "source": [
    "b = function2(4)\n",
    "b"
   ]
  },
  {
   "cell_type": "code",
   "execution_count": 9,
   "metadata": {},
   "outputs": [],
   "source": [
    "def function3(x,y):\n",
    "    return x+y"
   ]
  },
  {
   "cell_type": "code",
   "execution_count": 10,
   "metadata": {},
   "outputs": [
    {
     "data": {
      "text/plain": [
       "5"
      ]
     },
     "execution_count": 10,
     "metadata": {},
     "output_type": "execute_result"
    }
   ],
   "source": [
    "c = function3(2,3)\n",
    "c"
   ]
  },
  {
   "cell_type": "code",
   "execution_count": 13,
   "metadata": {},
   "outputs": [],
   "source": [
    "#combining both collection and mapping\n",
    "def function4(x):\n",
    "    print(x)\n",
    "    print(\"still in this function\")\n",
    "    return 3*x"
   ]
  },
  {
   "cell_type": "code",
   "execution_count": 15,
   "metadata": {},
   "outputs": [
    {
     "name": "stdout",
     "output_type": "stream",
     "text": [
      "5\n",
      "still in this function\n"
     ]
    },
    {
     "data": {
      "text/plain": [
       "15"
      ]
     },
     "execution_count": 15,
     "metadata": {},
     "output_type": "execute_result"
    }
   ],
   "source": [
    "d = function4(5)\n",
    "d"
   ]
  },
  {
   "cell_type": "code",
   "execution_count": 21,
   "metadata": {},
   "outputs": [],
   "source": [
    "def function5(some_argument):\n",
    "    print(some_argument)\n",
    "    print(\"yahoo\")"
   ]
  },
  {
   "cell_type": "code",
   "execution_count": 27,
   "metadata": {},
   "outputs": [
    {
     "name": "stdout",
     "output_type": "stream",
     "text": [
      "google\n",
      "yahoo\n"
     ]
    }
   ],
   "source": [
    "e = function5(\"google\")  #not much in assigning variable as there is no return value"
   ]
  },
  {
   "cell_type": "code",
   "execution_count": 32,
   "metadata": {},
   "outputs": [],
   "source": [
    "#BMI Calculator\n",
    "name1 = \"YK\"\n",
    "hieght1_m = 2\n",
    "weight1_kg = 90\n",
    "\n",
    "name2 = \"YK's sister\"\n",
    "hieght2_m = 1.8\n",
    "weight2_kg = 70\n",
    "\n",
    "name3 = \"YK's brother\"\n",
    "hieght3_m = 2.5\n",
    "weight3_kg = 160"
   ]
  },
  {
   "cell_type": "code",
   "execution_count": 41,
   "metadata": {},
   "outputs": [],
   "source": [
    "def bmi_calculator(name, hieght_m, weight_kg):\n",
    "    bmi = weight_kg / (hieght_m**2)\n",
    "    print (\"BMI of \" + name + \" is:\")\n",
    "    print(bmi)\n",
    "    if bmi < 25:\n",
    "        print(\"The person is fit\")\n",
    "    else: \n",
    "        print(\"The person needs to do something\")"
   ]
  },
  {
   "cell_type": "code",
   "execution_count": 42,
   "metadata": {},
   "outputs": [
    {
     "name": "stdout",
     "output_type": "stream",
     "text": [
      "BMI of YK is:\n",
      "22.5\n",
      "The person is fit\n"
     ]
    }
   ],
   "source": [
    "bmi_calculator(name1,hieght1_m,weight1_kg)"
   ]
  },
  {
   "cell_type": "code",
   "execution_count": 43,
   "metadata": {},
   "outputs": [
    {
     "name": "stdout",
     "output_type": "stream",
     "text": [
      "BMI of YK's sister is:\n",
      "21.604938271604937\n",
      "The person is fit\n"
     ]
    }
   ],
   "source": [
    "bmi_calculator(name2,hieght2_m,weight2_kg)"
   ]
  },
  {
   "cell_type": "code",
   "execution_count": 44,
   "metadata": {},
   "outputs": [
    {
     "name": "stdout",
     "output_type": "stream",
     "text": [
      "BMI of YK's brother is:\n",
      "25.6\n",
      "The person needs to do something\n"
     ]
    }
   ],
   "source": [
    "bmi_calculator(name3,hieght3_m,weight3_kg)"
   ]
  },
  {
   "cell_type": "code",
   "execution_count": 55,
   "metadata": {},
   "outputs": [],
   "source": [
    "def bmi_calculator(name, hieght_m, weight_kg):\n",
    "    bmi = weight_kg / (hieght_m**2)\n",
    "    print (\"BMI of \" + name + \" is: \" + str(bmi))\n",
    "    if bmi < 25:\n",
    "        return name + \" is fit\"\n",
    "    else: \n",
    "        return name + \" needs to do something\""
   ]
  },
  {
   "cell_type": "code",
   "execution_count": 56,
   "metadata": {},
   "outputs": [
    {
     "name": "stdout",
     "output_type": "stream",
     "text": [
      "BMI of YK is: 22.5\n",
      "BMI of YK's sister is: 21.604938271604937\n",
      "BMI of YK's brother is: 25.6\n"
     ]
    }
   ],
   "source": [
    "result1 = bmi_calculator(name1,hieght1_m,weight1_kg)\n",
    "result2 = bmi_calculator(name2,hieght2_m,weight2_kg)\n",
    "result3 = bmi_calculator(name3,hieght3_m,weight3_kg)"
   ]
  },
  {
   "cell_type": "code",
   "execution_count": 57,
   "metadata": {},
   "outputs": [
    {
     "name": "stdout",
     "output_type": "stream",
     "text": [
      "YK is fit\n",
      "YK's sister is fit\n",
      "YK's brother needs to do something\n"
     ]
    }
   ],
   "source": [
    "print(result1)\n",
    "print(result2)\n",
    "print(result3)"
   ]
  },
  {
   "cell_type": "code",
   "execution_count": 77,
   "metadata": {},
   "outputs": [],
   "source": [
    "#parameters are the input that you define for your function\n",
    "#arguments are the actual value for the given parameter \n",
    "\n",
    "def greet(first_name, last_name):\n",
    "    #print(\"Hi \" + str(first_name) + str(last_name))   \n",
    "    #print(\"Hi \" + first_name + last_name)\n",
    "    print(f\"Hi {first_name} {last_name}\")  #f represents the formatted string"
   ]
  },
  {
   "cell_type": "code",
   "execution_count": 78,
   "metadata": {},
   "outputs": [
    {
     "name": "stdout",
     "output_type": "stream",
     "text": [
      "Hi Gaurav  Sharma\n"
     ]
    }
   ],
   "source": [
    "greet(\"Gaurav \", \"Sharma\")"
   ]
  },
  {
   "cell_type": "markdown",
   "metadata": {},
   "source": [
    "Types of functions\n",
    "1. Perform a task\n",
    "2. Return a value"
   ]
  },
  {
   "cell_type": "code",
   "execution_count": 79,
   "metadata": {},
   "outputs": [
    {
     "data": {
      "text/plain": [
       "2"
      ]
     },
     "execution_count": 79,
     "metadata": {},
     "output_type": "execute_result"
    }
   ],
   "source": [
    "round(1.9) #example of a function which returns a value"
   ]
  },
  {
   "cell_type": "code",
   "execution_count": 86,
   "metadata": {},
   "outputs": [],
   "source": [
    "def get_greeting(name):\n",
    "    return f\"Hi {name}\"\n",
    "#this version is not tied to print something on terminal. Better for sharing purposes\n",
    "#if we do not provide any return value then it print's \"None\". None shows the absence of the value"
   ]
  },
  {
   "cell_type": "code",
   "execution_count": 87,
   "metadata": {},
   "outputs": [
    {
     "data": {
      "text/plain": [
       "'Hi Gaurav Sharma'"
      ]
     },
     "execution_count": 87,
     "metadata": {},
     "output_type": "execute_result"
    }
   ],
   "source": [
    "get_greeting(\"Gaurav Sharma\")"
   ]
  },
  {
   "cell_type": "code",
   "execution_count": 96,
   "metadata": {},
   "outputs": [
    {
     "name": "stdout",
     "output_type": "stream",
     "text": [
      "4\n"
     ]
    }
   ],
   "source": [
    "#keyword argument\n",
    "def increment(number, by):\n",
    "    return number+by\n",
    "print(increment(2,by = 2))"
   ]
  },
  {
   "cell_type": "code",
   "execution_count": 100,
   "metadata": {},
   "outputs": [
    {
     "name": "stdout",
     "output_type": "stream",
     "text": [
      "4\n",
      "5\n"
     ]
    }
   ],
   "source": [
    "#default argument\n",
    "def increment(number, by = 1):  #deafult parameter has to be defined in the last\n",
    "    return number+by\n",
    "print(increment(3))\n",
    "print(increment(3,2))"
   ]
  },
  {
   "cell_type": "code",
   "execution_count": 106,
   "metadata": {},
   "outputs": [
    {
     "data": {
      "text/plain": [
       "6"
      ]
     },
     "execution_count": 106,
     "metadata": {},
     "output_type": "execute_result"
    }
   ],
   "source": [
    "def multiply1(x,y):   \n",
    "    return x*y\n",
    "multiply1(2,3)\n",
    "#trying to calculate multiply(2,3,4,5) will not work here"
   ]
  },
  {
   "cell_type": "code",
   "execution_count": 114,
   "metadata": {},
   "outputs": [
    {
     "name": "stdout",
     "output_type": "stream",
     "text": [
      "120\n"
     ]
    }
   ],
   "source": [
    "#using *arg \n",
    "def multiply2(*numbers):\n",
    "    total = 1\n",
    "    for number in numbers:   \n",
    "        #total = total * number \n",
    "        total *= number     #augmented assignment operator\n",
    "    return total\n",
    "        \n",
    "result_m = multiply2(2,3,4,5)\n",
    "print(result_m)"
   ]
  },
  {
   "cell_type": "code",
   "execution_count": 115,
   "metadata": {},
   "outputs": [
    {
     "name": "stdout",
     "output_type": "stream",
     "text": [
      "{'id': 1, 'name': 'Gaurav', 'age': 26}\n"
     ]
    }
   ],
   "source": [
    "#using **arg\n",
    "def save_user(**user):\n",
    "    print(user)\n",
    "    \n",
    "save_user(id = 1, name= \"Gaurav\", age= 26) #this gives a dictionary data structure"
   ]
  },
  {
   "cell_type": "code",
   "execution_count": 118,
   "metadata": {},
   "outputs": [
    {
     "name": "stdout",
     "output_type": "stream",
     "text": [
      "1\n",
      "Gaurav\n",
      "26\n"
     ]
    }
   ],
   "source": [
    "def save_user(**user):\n",
    "    print(user[\"id\"])\n",
    "    print(user[\"name\"])\n",
    "    print(user[\"age\"])\n",
    "    \n",
    "save_user(id = 1, name= \"Gaurav\", age= 26)"
   ]
  },
  {
   "cell_type": "code",
   "execution_count": 121,
   "metadata": {},
   "outputs": [],
   "source": [
    "# scope- a region of a code where a variable is defined\n",
    "def greet():\n",
    "    message = \"a\"\n",
    "\n",
    "#print(message)\n",
    "#here print will not work because message is defined under the greet and that's the scope. We can print message outside its scope\n",
    "\n",
    "    print(message)\n",
    "#in this way print will work\n",
    "#the scope of the message variable is in the greet function, and such variables are local variables"
   ]
  },
  {
   "cell_type": "code",
   "execution_count": 146,
   "metadata": {},
   "outputs": [],
   "source": [
    "#fizz-buzz algorithm\n",
    "\n",
    "def fizz_buzz1(input):\n",
    "    if input % 5 == 0 and input % 3 == 0:\n",
    "        print(\"fizz-buzz\")\n",
    "    elif input % 3 == 0:\n",
    "        print(\"fizz\")\n",
    "    elif input % 5 == 0:\n",
    "        print(\"buzz\")\n",
    "    else:\n",
    "        print(input)"
   ]
  },
  {
   "cell_type": "code",
   "execution_count": 151,
   "metadata": {},
   "outputs": [
    {
     "name": "stdout",
     "output_type": "stream",
     "text": [
      "buzz\n"
     ]
    }
   ],
   "source": [
    "fizz_buzz1(10)"
   ]
  },
  {
   "cell_type": "code",
   "execution_count": 154,
   "metadata": {},
   "outputs": [],
   "source": [
    "def fizz_buzz2(input):\n",
    "    if input % 5 == 0 and input % 3 == 0:\n",
    "        result = \"fizz-buzz\"\n",
    "    elif input % 3 == 0:\n",
    "        result = \"fizz\"\n",
    "    elif input % 5 == 0:\n",
    "        result = \"buzz\"\n",
    "    else:\n",
    "        result = input\n",
    "    return result       "
   ]
  },
  {
   "cell_type": "code",
   "execution_count": 157,
   "metadata": {},
   "outputs": [
    {
     "data": {
      "text/plain": [
       "8"
      ]
     },
     "execution_count": 157,
     "metadata": {},
     "output_type": "execute_result"
    }
   ],
   "source": [
    "fizz_buzz2(8)"
   ]
  },
  {
   "cell_type": "code",
   "execution_count": 159,
   "metadata": {},
   "outputs": [],
   "source": [
    "def fizz_buzz3(input):\n",
    "    if input % 5 == 0 and input % 3 == 0:\n",
    "        return \"fizz-buzz\"\n",
    "    elif input % 3 == 0:\n",
    "        return \"fizz\"\n",
    "    elif input % 5 == 0:\n",
    "        return \"buzz\"\n",
    "    else:\n",
    "        return input"
   ]
  },
  {
   "cell_type": "code",
   "execution_count": 162,
   "metadata": {},
   "outputs": [
    {
     "data": {
      "text/plain": [
       "'fizz'"
      ]
     },
     "execution_count": 162,
     "metadata": {},
     "output_type": "execute_result"
    }
   ],
   "source": [
    "fizz_buzz3(9)"
   ]
  },
  {
   "cell_type": "code",
   "execution_count": 165,
   "metadata": {},
   "outputs": [],
   "source": [
    "def fizz_buzz4(input):\n",
    "    if input % 5 == 0 and input % 3 == 0:\n",
    "        return \"fizz-buzz\"\n",
    "    elif input % 3 == 0:\n",
    "        return \"fizz\"\n",
    "    elif input % 5 == 0:\n",
    "        return \"buzz\"\n",
    "    return input"
   ]
  },
  {
   "cell_type": "code",
   "execution_count": 167,
   "metadata": {},
   "outputs": [
    {
     "data": {
      "text/plain": [
       "'buzz'"
      ]
     },
     "execution_count": 167,
     "metadata": {},
     "output_type": "execute_result"
    }
   ],
   "source": [
    "fizz_buzz4(10)"
   ]
  },
  {
   "cell_type": "code",
   "execution_count": 170,
   "metadata": {},
   "outputs": [],
   "source": [
    "def fizz_buzz5(input):\n",
    "    if (input % 5 == 0) and (input % 3 == 0):\n",
    "        return \"fizz-buzz\"\n",
    "    if input % 3 == 0:\n",
    "        return \"fizz\"\n",
    "    if input % 5 == 0:\n",
    "        return \"buzz\"\n",
    "    return input"
   ]
  },
  {
   "cell_type": "code",
   "execution_count": 171,
   "metadata": {},
   "outputs": [
    {
     "name": "stdout",
     "output_type": "stream",
     "text": [
      "fizzbuzz\n",
      "1\n",
      "2\n",
      "fizz\n",
      "4\n",
      "buzz\n",
      "fizz\n",
      "7\n",
      "8\n",
      "fizz\n",
      "buzz\n",
      "11\n",
      "fizz\n",
      "13\n",
      "14\n",
      "fizzbuzz\n",
      "16\n",
      "17\n",
      "fizz\n",
      "19\n",
      "buzz\n",
      "fizz\n",
      "22\n",
      "23\n",
      "fizz\n",
      "buzz\n",
      "26\n",
      "fizz\n",
      "28\n",
      "29\n",
      "fizzbuzz\n",
      "31\n",
      "32\n",
      "fizz\n",
      "34\n",
      "buzz\n",
      "fizz\n",
      "37\n",
      "38\n",
      "fizz\n",
      "buzz\n",
      "41\n",
      "fizz\n",
      "43\n",
      "44\n",
      "fizzbuzz\n",
      "46\n",
      "47\n",
      "fizz\n",
      "49\n",
      "buzz\n"
     ]
    }
   ],
   "source": [
    "for fizzbuzz in range(51):\n",
    "    if fizzbuzz % 3 == 0 and fizzbuzz % 5 == 0:\n",
    "        print(\"fizzbuzz\")\n",
    "        continue\n",
    "    elif fizzbuzz % 3 == 0:\n",
    "        print(\"fizz\")\n",
    "        continue\n",
    "    elif fizzbuzz % 5 == 0:\n",
    "        print(\"buzz\")\n",
    "        continue\n",
    "    print(fizzbuzz)"
   ]
  },
  {
   "cell_type": "code",
   "execution_count": 174,
   "metadata": {},
   "outputs": [],
   "source": [
    "class FairRoulette():\n",
    "    def _init_(self):\n",
    "        self.pockets = []\n",
    "        for i in range(1,37):  #setting up wheel with 36 pockets, can bet on numbers between 1 and 36\n",
    "            print(i)\n",
    "            self.pockets.append(i)\n",
    "        print(self.pockets)"
   ]
  },
  {
   "cell_type": "code",
   "execution_count": 176,
   "metadata": {},
   "outputs": [
    {
     "data": {
      "text/plain": [
       "<__main__.FairRoulette at 0x1122f2908>"
      ]
     },
     "execution_count": 176,
     "metadata": {},
     "output_type": "execute_result"
    }
   ],
   "source": [
    "FairRoulette()"
   ]
  },
  {
   "cell_type": "code",
   "execution_count": null,
   "metadata": {},
   "outputs": [],
   "source": []
  }
 ],
 "metadata": {
  "kernelspec": {
   "display_name": "Python 3",
   "language": "python",
   "name": "python3"
  },
  "language_info": {
   "codemirror_mode": {
    "name": "ipython",
    "version": 3
   },
   "file_extension": ".py",
   "mimetype": "text/x-python",
   "name": "python",
   "nbconvert_exporter": "python",
   "pygments_lexer": "ipython3",
   "version": "3.7.2"
  }
 },
 "nbformat": 4,
 "nbformat_minor": 2
}
