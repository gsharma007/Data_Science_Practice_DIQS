{
 "cells": [
  {
   "cell_type": "markdown",
   "metadata": {},
   "source": [
    "- An Object is basically a collection of properties which can be expressed as variables (attributes) and some functions\n",
    "- Functions inside the object are called methods\n",
    "- A Class is basically like a blueprint from which you can make objects \n",
    "- A class does not refer to any particular object. It has the same attributes and functions as objects but values will not be defined like in objects because it is a general idea, not referring to any specific objects"
   ]
  },
  {
   "cell_type": "code",
   "execution_count": 5,
   "metadata": {},
   "outputs": [
    {
     "name": "stdout",
     "output_type": "stream",
     "text": [
      "2gb, i5, 1 TB\n"
     ]
    }
   ],
   "source": [
    "class computer():\n",
    "    \n",
    "    def config(self):\n",
    "        print(\"2gb, i5, 1 TB\")\n",
    "    \n",
    "com1 = computer() #to give object of computer class. It is like constructor\n",
    "com2 = computer()\n",
    "\n",
    "computer.config(com2)"
   ]
  },
  {
   "cell_type": "code",
   "execution_count": null,
   "metadata": {},
   "outputs": [],
   "source": [
    "class computer():\n",
    "    \n",
    "    def _init_(self):\n",
    "        \n",
    "    \n",
    "    def config(self):\n",
    "        print(\"2gb, i5, 1 TB\")\n",
    "    \n",
    "com1 = computer() #to give object of computer class. It is like constructor\n",
    "com2 = computer()\n",
    "\n",
    "computer.config(com2)"
   ]
  },
  {
   "cell_type": "code",
   "execution_count": 24,
   "metadata": {},
   "outputs": [],
   "source": [
    "import random"
   ]
  },
  {
   "cell_type": "code",
   "execution_count": 33,
   "metadata": {},
   "outputs": [
    {
     "name": "stdout",
     "output_type": "stream",
     "text": [
      "1\n",
      "2\n",
      "3\n",
      "4\n",
      "5\n",
      "6\n",
      "7\n",
      "8\n",
      "9\n",
      "10\n",
      "11\n",
      "12\n",
      "13\n",
      "14\n",
      "15\n",
      "16\n",
      "17\n",
      "18\n",
      "19\n",
      "20\n",
      "21\n",
      "22\n",
      "23\n",
      "24\n",
      "25\n",
      "26\n",
      "27\n",
      "28\n",
      "29\n",
      "30\n",
      "31\n",
      "32\n",
      "33\n",
      "34\n",
      "35\n",
      "36\n",
      "[1, 2, 3, 4, 5, 6, 7, 8, 9, 10, 11, 12, 13, 14, 15, 16, 17, 18, 19, 20, 21, 22, 23, 24, 25, 26, 27, 28, 29, 30, 31, 32, 33, 34, 35, 36]\n",
      "None\n",
      "35\n",
      "29\n"
     ]
    },
    {
     "data": {
      "text/plain": [
       "'Fair Roulette'"
      ]
     },
     "execution_count": 33,
     "metadata": {},
     "output_type": "execute_result"
    }
   ],
   "source": [
    "class FairRoulette():\n",
    "    def _init_(self):\n",
    "        self.pockets = []\n",
    "        for i in range(1,37):  #setting up wheel with 36 pockets, can bet on numbers between 1 and 36\n",
    "            print(i)\n",
    "            self.pockets.append(i)\n",
    "        print(self.pockets)\n",
    "        self.ball = None\n",
    "        print(self.ball)\n",
    "        self.pocketOdds = len(self.pockets)-1\n",
    "        print(self.pocketOdds)\n",
    "        \n",
    "    def spin(self):\n",
    "        self.ball = random.choice(self.pockets)\n",
    "        print(self.ball)\n",
    "        \n",
    "    def betPocket(self,pockets,amt):\n",
    "        if str(pockets) == str(self.ball):\n",
    "            return amt*self.pocketOdds\n",
    "        else: return -amt\n",
    "    \n",
    "    def _str_(self):\n",
    "        return 'Fair Roulette'\n",
    "\n",
    "com3 = FairRoulette()\n",
    "            \n",
    "FairRoulette._init_(com3)\n",
    "FairRoulette.spin(com3)\n",
    "FairRoulette.betPocket(com3, 2,3)\n",
    "FairRoulette._str_(com3)"
   ]
  },
  {
   "cell_type": "code",
   "execution_count": null,
   "metadata": {},
   "outputs": [],
   "source": []
  }
 ],
 "metadata": {
  "kernelspec": {
   "display_name": "Python 3",
   "language": "python",
   "name": "python3"
  },
  "language_info": {
   "codemirror_mode": {
    "name": "ipython",
    "version": 3
   },
   "file_extension": ".py",
   "mimetype": "text/x-python",
   "name": "python",
   "nbconvert_exporter": "python",
   "pygments_lexer": "ipython3",
   "version": "3.7.2"
  }
 },
 "nbformat": 4,
 "nbformat_minor": 2
}
